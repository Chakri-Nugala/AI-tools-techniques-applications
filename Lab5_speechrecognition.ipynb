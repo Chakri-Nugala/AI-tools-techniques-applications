{
 "cells": [
  {
   "cell_type": "markdown",
   "metadata": {},
   "source": [
    "# speech recognition using audio"
   ]
  },
  {
   "cell_type": "code",
   "execution_count": 10,
   "metadata": {},
   "outputs": [],
   "source": [
    "import speech_recognition as sr"
   ]
  },
  {
   "cell_type": "code",
   "execution_count": 11,
   "metadata": {},
   "outputs": [],
   "source": [
    "# Initialize recognizer class (for recognizing the speech)\n",
    "r=sr.Recognizer()\n",
    "a=sr.AudioFile(\"LongWelcome.wav\")"
   ]
  },
  {
   "cell_type": "code",
   "execution_count": 12,
   "metadata": {},
   "outputs": [
    {
     "name": "stdout",
     "output_type": "stream",
     "text": [
      "Converting audio transcripts into text ...\n",
      "thank you for choosing the Olympus dictation management system\n"
     ]
    }
   ],
   "source": [
    "with a as source:\n",
    "    audio = r.listen(source) #record\n",
    "    try:\n",
    "        # using google speech recognition\n",
    "        text = r.recognize_google(audio)\n",
    "        print('Converting audio transcripts into text ...')\n",
    "        print(text)\n",
    "    except:\n",
    "        print('Sorry.. run again...')"
   ]
  },
  {
   "cell_type": "code",
   "execution_count": 13,
   "metadata": {},
   "outputs": [
    {
     "data": {
      "text/plain": [
       "speech_recognition.AudioData"
      ]
     },
     "execution_count": 13,
     "metadata": {},
     "output_type": "execute_result"
    }
   ],
   "source": [
    "type(audio)"
   ]
  },
  {
   "cell_type": "code",
   "execution_count": 14,
   "metadata": {},
   "outputs": [],
   "source": [
    "with a as source:\n",
    "    audio1 = r.record(source, duration=4)\n",
    "    audio2 = r.record(source, duration=4)"
   ]
  },
  {
   "cell_type": "code",
   "execution_count": 15,
   "metadata": {},
   "outputs": [
    {
     "data": {
      "text/plain": [
       "'thank you for choosing the Olympus dictation management system'"
      ]
     },
     "execution_count": 15,
     "metadata": {},
     "output_type": "execute_result"
    }
   ],
   "source": [
    "r.recognize_google(audio1)\n"
   ]
  },
  {
   "cell_type": "code",
   "execution_count": 16,
   "metadata": {},
   "outputs": [
    {
     "data": {
      "text/plain": [
       "'Olympus dictation management system give you the power'"
      ]
     },
     "execution_count": 16,
     "metadata": {},
     "output_type": "execute_result"
    }
   ],
   "source": [
    "r.recognize_google(audio2)\n"
   ]
  },
  {
   "cell_type": "markdown",
   "metadata": {},
   "source": [
    "The record() method, when used inside a with block, always moves ahead in the file stream. This means\n",
    "that if you record once for four seconds and then record again for four seconds, the second time\n",
    "returns the four seconds of audio after the first four seconds.\n"
   ]
  },
  {
   "cell_type": "code",
   "execution_count": 17,
   "metadata": {},
   "outputs": [],
   "source": [
    "with a as source:\n",
    "    audio = r.record(source, offset=4, duration=3)"
   ]
  },
  {
   "cell_type": "code",
   "execution_count": 18,
   "metadata": {},
   "outputs": [
    {
     "data": {
      "text/plain": [
       "'Olympus dictation management system'"
      ]
     },
     "execution_count": 18,
     "metadata": {},
     "output_type": "execute_result"
    }
   ],
   "source": [
    "r.recognize_google(audio)"
   ]
  },
  {
   "cell_type": "code",
   "execution_count": 19,
   "metadata": {},
   "outputs": [
    {
     "data": {
      "text/plain": [
       "'थैंक्यू पृथ्वी सिंह सीरियल इन्वेस्टिगेशन मैनेजमेंट सिस्टम'"
      ]
     },
     "execution_count": 19,
     "metadata": {},
     "output_type": "execute_result"
    }
   ],
   "source": [
    "with a as source:\n",
    "    b=r.record(source,duration=6)\n",
    "r.recognize_google(b,language=\"hi-IN\")"
   ]
  },
  {
   "cell_type": "markdown",
   "metadata": {},
   "source": [
    "# speech recognition using microphone"
   ]
  },
  {
   "cell_type": "code",
   "execution_count": 1,
   "metadata": {},
   "outputs": [
    {
     "name": "stdout",
     "output_type": "stream",
     "text": [
      "Requirement already up-to-date: pip in c:\\users\\chakri\\anaconda3\\lib\\site-packagesNote: you may need to restart the kernel to use updated packages.\n",
      "\n"
     ]
    }
   ],
   "source": [
    "pip install --upgrade pip"
   ]
  },
  {
   "cell_type": "code",
   "execution_count": 2,
   "metadata": {},
   "outputs": [
    {
     "name": "stdout",
     "output_type": "stream",
     "text": [
      "Requirement already satisfied (use --upgrade to upgrade): pipwin in c:\\users\\chakri\\anaconda3\\lib\\site-packages\n",
      "Requirement already satisfied (use --upgrade to upgrade): docopt in c:\\users\\chakri\\anaconda3\\lib\\site-packages (from pipwin)\n",
      "Requirement already satisfied (use --upgrade to upgrade): js2py in c:\\users\\chakri\\anaconda3\\lib\\site-packages (from pipwin)\n",
      "Requirement already satisfied (use --upgrade to upgrade): beautifulsoup4>=4.9.0 in c:\\users\\chakri\\anaconda3\\lib\\site-packages (from pipwin)\n",
      "Requirement already satisfied (use --upgrade to upgrade): packaging in c:\\users\\chakri\\anaconda3\\lib\\site-packages (from pipwin)\n",
      "Requirement already satisfied (use --upgrade to upgrade): six in c:\\users\\chakri\\anaconda3\\lib\\site-packages (from pipwin)\n",
      "Requirement already satisfied (use --upgrade to upgrade): pyprind in c:\\users\\chakri\\anaconda3\\lib\\site-packages (from pipwin)\n",
      "Requirement already satisfied (use --upgrade to upgrade): requests in c:\\users\\chakri\\anaconda3\\lib\\site-packages (from pipwin)\n",
      "Requirement already satisfied (use --upgrade to upgrade): pySmartDL>=1.3.1 in c:\\users\\chakri\\anaconda3\\lib\\site-packages (from pipwin)\n",
      "Requirement already satisfied (use --upgrade to upgrade): tzlocal>=1.2 in c:\\users\\chakri\\anaconda3\\lib\\site-packages (from js2py->pipwin)\n",
      "Requirement already satisfied (use --upgrade to upgrade): pyjsparser>=2.5.1 in c:\\users\\chakri\\anaconda3\\lib\\site-packages (from js2py->pipwin)\n",
      "Requirement already satisfied (use --upgrade to upgrade): soupsieve>1.2 in c:\\users\\chakri\\anaconda3\\lib\\site-packages (from beautifulsoup4>=4.9.0->pipwin)\n",
      "Requirement already satisfied (use --upgrade to upgrade): pyparsing>=2.0.2 in c:\\users\\chakri\\anaconda3\\lib\\site-packages (from packaging->pipwin)\n",
      "Requirement already satisfied (use --upgrade to upgrade): certifi>=2017.4.17 in c:\\users\\chakri\\anaconda3\\lib\\site-packages (from requests->pipwin)\n",
      "Requirement already satisfied (use --upgrade to upgrade): chardet<4,>=3.0.2 in c:\\users\\chakri\\anaconda3\\lib\\site-packages (from requests->pipwin)\n",
      "Requirement already satisfied (use --upgrade to upgrade): urllib3!=1.25.0,!=1.25.1,<1.26,>=1.21.1 in c:\\users\\chakri\\anaconda3\\lib\\site-packages (from requests->pipwin)\n",
      "Requirement already satisfied (use --upgrade to upgrade): idna<3,>=2.5 in c:\\users\\chakri\\anaconda3\\lib\\site-packages (from requests->pipwin)\n",
      "Requirement already satisfied (use --upgrade to upgrade): pytz in c:\\users\\chakri\\anaconda3\\lib\\site-packages (from tzlocal>=1.2->js2py->pipwin)\n"
     ]
    }
   ],
   "source": [
    "!pip install pipwin"
   ]
  },
  {
   "cell_type": "code",
   "execution_count": 3,
   "metadata": {},
   "outputs": [
    {
     "name": "stdout",
     "output_type": "stream",
     "text": [
      "Package `pyaudio` found in cache\n",
      "Downloading package . . .\n",
      "https://download.lfd.uci.edu/pythonlibs/x2tqcw5k/PyAudio-0.2.11-cp38-cp38-win32.whl\n",
      "PyAudio-0.2.11-cp38-cp38-win32.whl\n",
      "File C:\\Users\\CHAKRI\\pipwin\\PyAudio-0.2.11-cp38-cp38-win32.whl already exists\n"
     ]
    },
    {
     "name": "stderr",
     "output_type": "stream",
     "text": [
      "PyAudio-0.2.11-cp38-cp38-win32.whl is not a supported wheel on this platform.\n",
      "Traceback (most recent call last):\n",
      "  File \"c:\\users\\chakri\\anaconda3\\lib\\runpy.py\", line 194, in _run_module_as_main\n",
      "    return _run_code(code, main_globals, None,\n",
      "  File \"c:\\users\\chakri\\anaconda3\\lib\\runpy.py\", line 87, in _run_code\n",
      "    exec(code, run_globals)\n",
      "  File \"C:\\Users\\CHAKRI\\anaconda3\\Scripts\\pipwin.exe\\__main__.py\", line 7, in <module>\n",
      "  File \"c:\\users\\chakri\\anaconda3\\lib\\site-packages\\pipwin\\command.py\", line 98, in main\n",
      "    cache.install(package)\n",
      "  File \"c:\\users\\chakri\\anaconda3\\lib\\site-packages\\pipwin\\pipwin.py\", line 301, in install\n",
      "    subprocess.check_call([executable, \"-m\", \"pip\", \"install\", wheel_file])\n",
      "  File \"c:\\users\\chakri\\anaconda3\\lib\\subprocess.py\", line 364, in check_call\n",
      "    raise CalledProcessError(retcode, cmd)\n",
      "subprocess.CalledProcessError: Command '['c:\\\\users\\\\chakri\\\\anaconda3\\\\python.exe', '-m', 'pip', 'install', 'C:\\\\Users\\\\CHAKRI\\\\pipwin\\\\PyAudio-0.2.11-cp38-cp38-win32.whl']' returned non-zero exit status 1.\n"
     ]
    }
   ],
   "source": [
    "!pipwin install pyaudio"
   ]
  },
  {
   "cell_type": "code",
   "execution_count": 4,
   "metadata": {},
   "outputs": [],
   "source": [
    "import speech_recognition as sr"
   ]
  },
  {
   "cell_type": "code",
   "execution_count": 5,
   "metadata": {},
   "outputs": [],
   "source": [
    "r=sr.Recognizer()"
   ]
  },
  {
   "cell_type": "code",
   "execution_count": 6,
   "metadata": {},
   "outputs": [],
   "source": [
    "mic=sr.Microphone(device_index=0)"
   ]
  },
  {
   "cell_type": "code",
   "execution_count": 7,
   "metadata": {},
   "outputs": [
    {
     "data": {
      "text/plain": [
       "['Microsoft Sound Mapper - Input',\n",
       " 'Headset Microphone (Realtek(R) ',\n",
       " 'Microphone Array (Realtek(R) Au',\n",
       " 'Microsoft Sound Mapper - Output',\n",
       " 'Headphone (Realtek(R) Audio)',\n",
       " 'Speaker (Realtek(R) Audio)',\n",
       " 'Primary Sound Capture Driver',\n",
       " 'Headset Microphone (Realtek(R) Audio)',\n",
       " 'Microphone Array (Realtek(R) Audio)',\n",
       " 'Primary Sound Driver',\n",
       " 'Headphone (Realtek(R) Audio)',\n",
       " 'Speaker (Realtek(R) Audio)',\n",
       " 'Speaker (Realtek(R) Audio)',\n",
       " 'Headphone (Realtek(R) Audio)',\n",
       " 'Headset Microphone (Realtek(R) Audio)',\n",
       " 'Microphone Array (Realtek(R) Audio)',\n",
       " 'Microphone Array 1 (Realtek HD Audio Mic input with SST)',\n",
       " 'Microphone Array 2 (Realtek HD Audio Mic input with SST)',\n",
       " 'Microphone Array 3 (Realtek HD Audio Mic input with SST)',\n",
       " 'Speakers 1 (Realtek HD Audio output with SST)',\n",
       " 'Speakers 2 (Realtek HD Audio output with SST)',\n",
       " 'PC Speaker (Realtek HD Audio output with SST)',\n",
       " 'Headphones 1 (Realtek HD Audio 2nd output with SST)',\n",
       " 'Headphones 2 (Realtek HD Audio 2nd output with SST)',\n",
       " 'PC Speaker (Realtek HD Audio 2nd output with SST)',\n",
       " 'Mic in at front panel (black) (Mic in at front panel (black))',\n",
       " 'Output (@System32\\\\drivers\\\\bthhfenum.sys,#4;%1 Hands-Free HF Audio%0\\r\\n;(JIO 4G))',\n",
       " 'Input (@System32\\\\drivers\\\\bthhfenum.sys,#4;%1 Hands-Free HF Audio%0\\r\\n;(JIO 4G))']"
      ]
     },
     "execution_count": 7,
     "metadata": {},
     "output_type": "execute_result"
    }
   ],
   "source": [
    "sr.Microphone.list_microphone_names()"
   ]
  },
  {
   "cell_type": "code",
   "execution_count": 8,
   "metadata": {},
   "outputs": [
    {
     "name": "stdout",
     "output_type": "stream",
     "text": [
      "say something\n",
      "hello\n"
     ]
    }
   ],
   "source": [
    "with mic as source:\n",
    "    s=r.listen(source)\n",
    "    try:\n",
    "        text=r.recognize_google(s)\n",
    "        print(\"say something\")\n",
    "        print(text)\n",
    "    except:\n",
    "        print(\"could not recognise\")"
   ]
  },
  {
   "cell_type": "code",
   "execution_count": 9,
   "metadata": {},
   "outputs": [
    {
     "name": "stdout",
     "output_type": "stream",
     "text": [
      "say something in telugu\n",
      "say something\n",
      "హలో\n"
     ]
    }
   ],
   "source": [
    "with mic as source:\n",
    "    print(\"say something in telugu\")\n",
    "    s=r.listen(source)\n",
    "    try:\n",
    "        text=r.recognize_google(s,language=\"te-IN\")\n",
    "        print(\"say something\")\n",
    "        print(text)\n",
    "    except:\n",
    "        print(\"could not recognise\")"
   ]
  },
  {
   "cell_type": "code",
   "execution_count": null,
   "metadata": {},
   "outputs": [],
   "source": []
  }
 ],
 "metadata": {
  "kernelspec": {
   "display_name": "Python 3",
   "language": "python",
   "name": "python3"
  },
  "language_info": {
   "codemirror_mode": {
    "name": "ipython",
    "version": 3
   },
   "file_extension": ".py",
   "mimetype": "text/x-python",
   "name": "python",
   "nbconvert_exporter": "python",
   "pygments_lexer": "ipython3",
   "version": "3.8.3"
  }
 },
 "nbformat": 4,
 "nbformat_minor": 4
}
